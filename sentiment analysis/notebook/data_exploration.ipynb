# In a Jupyter notebook cell

import pandas as pd
from textblob import TextBlob
import matplotlib.pyplot as plt
import seaborn as sns

# Load the sample data
data_path = '../data/raw/sample_data.csv'
data = pd.read_csv(data_path)

# Display the first few rows of the dataset
data.head()

# Calculate sentiment polarity using TextBlob
data['polarity'] = data['text'].apply(lambda x: TextBlob(x).sentiment.polarity)
data['subjectivity'] = data['text'].apply(lambda x: TextBlob(x).sentiment.subjectivity)

# Display the data with calculated sentiment
data.head()

# Plot polarity distribution
plt.figure(figsize=(10, 6))
sns.histplot(data['polarity'], bins=30, kde=True)
plt.title('Polarity Distribution')
plt.xlabel('Polarity')
plt.ylabel('Frequency')
plt.show()

# Plot subjectivity distribution
plt.figure(figsize=(10, 6))
sns.histplot(data['subjectivity'], bins=30, kde=True)
plt.title('Subjectivity Distribution')
plt.xlabel('Subjectivity')
plt.ylabel('Frequency')
plt.show()
